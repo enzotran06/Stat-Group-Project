{
 "cells": [
  {
   "cell_type": "code",
   "execution_count": 16,
   "id": "722bc906",
   "metadata": {},
   "outputs": [
    {
     "name": "stdout",
     "output_type": "stream",
     "text": [
      "H0 : There is no difference in loneliness scores between individuals who play online games frequently with friends and those who do not.\n",
      "T-test results: t-statistic = -0.5250241450708119, p-value = 0.5997880617781706\n",
      "\n",
      "Descriptive Statistics:\n",
      "             Group  Mean Loneliness  Std Loneliness  Sample Size\n",
      "0  Frequent Gamers         3.701342        1.666080          298\n",
      "1       Non-Gamers         3.779923        1.841022          259\n"
     ]
    },
    {
     "data": {
      "text/plain": [
       "<Figure size 1000x600 with 0 Axes>"
      ]
     },
     "metadata": {},
     "output_type": "display_data"
    },
    {
     "data": {
      "image/png": "[encoded data removed]",
      "text/plain": [
       "<Figure size 640x480 with 1 Axes>"
      ]
     },
     "metadata": {},
     "output_type": "display_data"
    }
   ],
   "source": [
    "# Import necessary libraries\n",
    "import pandas as pd\n",
    "import matplotlib.pyplot as plt\n",
    "from scipy.stats import ttest_ind\n",
    "\n",
    "# Load the dataset\n",
    "file_path = 'https://raw.githubusercontent.com/pointOfive/stat130chat130/refs/heads/main/CP/CSCS_data_anon.csv'\n",
    "data = pd.read_csv(file_path, low_memory=False)\n",
    "\n",
    "# Extract relevant columns and create a copy of the subset\n",
    "relevant_columns = [\n",
    "    'CONNECTION_activities_onlinegames_p3m', \n",
    "    'LONELY_ucla_loneliness_scale_left_out', \n",
    "    'LONELY_dejong_emotional_social_loneliness_scale_score',\n",
    "    'CONNECTION_activities_talked_family_p3m',\n",
    "    'CONNECTION_activities_talked_hobbies_p3m'\n",
    "]\n",
    "subset_data = data[relevant_columns].copy()  # Create a deep copy to avoid warnings\n",
    "\n",
    "# Clean and categorize the \"Online Social Gaming\" variable using .loc\n",
    "subset_data['gaming_category'] = subset_data['CONNECTION_activities_onlinegames_p3m'].apply(\n",
    "    lambda x: 'Frequent Gamers' if x in ['Daily', 'A few times a week'] else 'Non-Gamers'\n",
    ")\n",
    "\n",
    "# Filter data by gaming category\n",
    "frequent_gamers = subset_data[subset_data['gaming_category'] == 'Frequent Gamers']\n",
    "non_gamers = subset_data[subset_data['gaming_category'] == 'Non-Gamers']\n",
    "\n",
    "# Balance sample sizes\n",
    "min_size = min(len(frequent_gamers), len(non_gamers))\n",
    "frequent_gamers_sample = frequent_gamers.sample(n=min_size, random_state=42)\n",
    "non_gamers_sample = non_gamers.sample(n=min_size, random_state=42)\n",
    "\n",
    "# Combine balanced groups\n",
    "balanced_data = pd.concat([frequent_gamers_sample, non_gamers_sample])\n",
    "\n",
    "# Perform analysis on balanced data\n",
    "frequent_gamers_loneliness = balanced_data[balanced_data['gaming_category'] == 'Frequent Gamers']['LONELY_dejong_emotional_social_loneliness_scale_score'].dropna()\n",
    "non_gamers_loneliness = balanced_data[balanced_data['gaming_category'] == 'Non-Gamers']['LONELY_dejong_emotional_social_loneliness_scale_score'].dropna()\n",
    "\n",
    "# Descriptive statistics\n",
    "descriptive_stats = {\n",
    "    \"Group\": [\"Frequent Gamers\", \"Non-Gamers\"],\n",
    "    \"Mean Loneliness\": [frequent_gamers_loneliness.mean(), non_gamers_loneliness.mean()],\n",
    "    \"Std Loneliness\": [frequent_gamers_loneliness.std(), non_gamers_loneliness.std()],\n",
    "    \"Sample Size\": [len(frequent_gamers_loneliness), len(non_gamers_loneliness)],\n",
    "}\n",
    "\n",
    "descriptive_stats_df = pd.DataFrame(descriptive_stats)\n",
    "\n",
    "# Perform t-test\n",
    "t_stat, p_value = ttest_ind(frequent_gamers_loneliness, non_gamers_loneliness, equal_var=False)\n",
    "\n",
    "# Print t-test results and descriptive stats\n",
    "print(\"H0 : There is no difference in loneliness scores between individuals who play online games frequently with friends and those who do not.\")\n",
    "print(f\"T-test results: t-statistic = {t_stat}, p-value = {p_value}\")\n",
    "print(\"\\nDescriptive Statistics:\")\n",
    "print(descriptive_stats_df)\n",
    "\n",
    "# Create a box plot for the loneliness scores by gaming group\n",
    "plt.figure(figsize=(10, 6))\n",
    "balanced_data.boxplot(\n",
    "    column='LONELY_dejong_emotional_social_loneliness_scale_score',\n",
    "    by='gaming_category',\n",
    "    grid=False,\n",
    "    showmeans=True,\n",
    "    meanline=True\n",
    ")\n",
    "\n",
    "# Enhance plot aesthetics\n",
    "plt.title('Loneliness Scores by Gaming Group (Balanced Sample)')\n",
    "plt.suptitle('')  # Remove the automatic subplot title\n",
    "plt.xlabel('Gaming Group')\n",
    "plt.ylabel('Loneliness Score')\n",
    "plt.xticks(rotation=0)\n",
    "plt.tight_layout()\n",
    "\n",
    "# Display the plot\n",
    "plt.show()"
   ]
  },
  {
   "cell_type": "code",
   "execution_count": 7,
   "id": "2a3b5052",
   "metadata": {},
   "outputs": [
    {
     "name": "stdout",
     "output_type": "stream",
     "text": [
      "             Group      Mean  Median  Mode   Std Dev  IQR  Sample Size\n",
      "0  Frequent Gamers  3.701342     4.0   3.0  1.666080  2.0          298\n",
      "1       Non-Gamers  3.775868     4.0   6.0  1.828819  3.0         8263\n"
     ]
    }
   ],
   "source": [
    "# Calculate additional descriptive statistics for each group\n",
    "frequent_gamers_stats = {\n",
    "    'Group': 'Frequent Gamers',\n",
    "    'Mean': frequent_gamers_loneliness.mean(),\n",
    "    'Median': frequent_gamers_loneliness.median(),\n",
    "    'Mode': frequent_gamers_loneliness.mode().iloc[0] if not frequent_gamers_loneliness.mode().empty else None,\n",
    "    'Std Dev': frequent_gamers_loneliness.std(),\n",
    "    'IQR': frequent_gamers_loneliness.quantile(0.75) - frequent_gamers_loneliness.quantile(0.25),\n",
    "    'Sample Size': len(frequent_gamers_loneliness)\n",
    "}\n",
    "\n",
    "non_gamers_stats = {\n",
    "    'Group': 'Non-Gamers',\n",
    "    'Mean': non_gamers_loneliness.mean(),\n",
    "    'Median': non_gamers_loneliness.median(),\n",
    "    'Mode': non_gamers_loneliness.mode().iloc[0] if not non_gamers_loneliness.mode().empty else None,\n",
    "    'Std Dev': non_gamers_loneliness.std(),\n",
    "    'IQR': non_gamers_loneliness.quantile(0.75) - non_gamers_loneliness.quantile(0.25),\n",
    "    'Sample Size': len(non_gamers_loneliness)\n",
    "}\n",
    "\n",
    "# Combine statistics into a DataFrame\n",
    "additional_stats_df = pd.DataFrame([frequent_gamers_stats, non_gamers_stats])\n",
    "\n",
    "# Display the results\n",
    "print(additional_stats_df)\n"
   ]
  },
  {
   "cell_type": "code",
   "execution_count": null,
   "id": "513a7d8f",
   "metadata": {},
   "outputs": [],
   "source": []
  },
  {
   "cell_type": "code",
   "execution_count": null,
   "id": "0f2de008",
   "metadata": {},
   "outputs": [],
   "source": [
    "\n"
   ]
  },
  {
   "cell_type": "code",
   "execution_count": null,
   "id": "81e81438",
   "metadata": {},
   "outputs": [],
   "source": []
  }
 ],
 "metadata": {
  "kernelspec": {
   "display_name": "Python 3 (ipykernel)",
   "language": "python",
   "name": "python3"
  },
  "language_info": {
   "codemirror_mode": {
    "name": "ipython",
    "version": 3
   },
   "file_extension": ".py",
   "mimetype": "text/x-python",
   "name": "python",
   "nbconvert_exporter": "python",
   "pygments_lexer": "ipython3",
   "version": "3.11.6"
  }
 },
 "nbformat": 4,
 "nbformat_minor": 5
}
